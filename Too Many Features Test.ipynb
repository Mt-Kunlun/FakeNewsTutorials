{
 "cells": [
  {
   "cell_type": "markdown",
   "metadata": {
    "collapsed": true
   },
   "source": [
    "## The dangers of having too many features \n",
    "\n",
    "Here we will explore using random data, who more features isnt necessarily better. \n"
   ]
  },
  {
   "cell_type": "code",
   "execution_count": 1,
   "metadata": {
    "collapsed": true
   },
   "outputs": [],
   "source": [
    "import pandas as pd\n",
    "import numpy as np"
   ]
  },
  {
   "cell_type": "markdown",
   "metadata": {},
   "source": [
    "Lets use 4000 samples and 4 features to start"
   ]
  },
  {
   "cell_type": "code",
   "execution_count": 2,
   "metadata": {},
   "outputs": [
    {
     "data": {
      "text/html": [
       "<div>\n",
       "<style>\n",
       "    .dataframe thead tr:only-child th {\n",
       "        text-align: right;\n",
       "    }\n",
       "\n",
       "    .dataframe thead th {\n",
       "        text-align: left;\n",
       "    }\n",
       "\n",
       "    .dataframe tbody tr th {\n",
       "        vertical-align: top;\n",
       "    }\n",
       "</style>\n",
       "<table border=\"1\" class=\"dataframe\">\n",
       "  <thead>\n",
       "    <tr style=\"text-align: right;\">\n",
       "      <th></th>\n",
       "      <th>0</th>\n",
       "      <th>1</th>\n",
       "      <th>2</th>\n",
       "      <th>3</th>\n",
       "    </tr>\n",
       "  </thead>\n",
       "  <tbody>\n",
       "    <tr>\n",
       "      <th>0</th>\n",
       "      <td>126</td>\n",
       "      <td>459</td>\n",
       "      <td>-140</td>\n",
       "      <td>294</td>\n",
       "    </tr>\n",
       "    <tr>\n",
       "      <th>1</th>\n",
       "      <td>130</td>\n",
       "      <td>95</td>\n",
       "      <td>724</td>\n",
       "      <td>44</td>\n",
       "    </tr>\n",
       "    <tr>\n",
       "      <th>2</th>\n",
       "      <td>638</td>\n",
       "      <td>-879</td>\n",
       "      <td>-534</td>\n",
       "      <td>238</td>\n",
       "    </tr>\n",
       "    <tr>\n",
       "      <th>3</th>\n",
       "      <td>-670</td>\n",
       "      <td>482</td>\n",
       "      <td>-913</td>\n",
       "      <td>396</td>\n",
       "    </tr>\n",
       "    <tr>\n",
       "      <th>4</th>\n",
       "      <td>123</td>\n",
       "      <td>-129</td>\n",
       "      <td>687</td>\n",
       "      <td>-870</td>\n",
       "    </tr>\n",
       "  </tbody>\n",
       "</table>\n",
       "</div>"
      ],
      "text/plain": [
       "     0    1    2    3\n",
       "0  126  459 -140  294\n",
       "1  130   95  724   44\n",
       "2  638 -879 -534  238\n",
       "3 -670  482 -913  396\n",
       "4  123 -129  687 -870"
      ]
     },
     "execution_count": 2,
     "metadata": {},
     "output_type": "execute_result"
    }
   ],
   "source": [
    "r = np.random.RandomState(42)\n",
    "\n",
    "num_samples = 4000\n",
    "num_features = 4\n",
    "\n",
    "df = pd.DataFrame(r.randint(-1000, 1000,size=(num_samples, num_features)))\n",
    "\n",
    "y = pd.DataFrame(r.randint(0, 2,size=(num_samples, 1)), columns=list('y'))\n",
    "\n",
    "df.head()"
   ]
  },
  {
   "cell_type": "code",
   "execution_count": 7,
   "metadata": {},
   "outputs": [
    {
     "data": {
      "text/html": [
       "<div>\n",
       "<style>\n",
       "    .dataframe thead tr:only-child th {\n",
       "        text-align: right;\n",
       "    }\n",
       "\n",
       "    .dataframe thead th {\n",
       "        text-align: left;\n",
       "    }\n",
       "\n",
       "    .dataframe tbody tr th {\n",
       "        vertical-align: top;\n",
       "    }\n",
       "</style>\n",
       "<table border=\"1\" class=\"dataframe\">\n",
       "  <thead>\n",
       "    <tr style=\"text-align: right;\">\n",
       "      <th></th>\n",
       "      <th>y</th>\n",
       "    </tr>\n",
       "  </thead>\n",
       "  <tbody>\n",
       "    <tr>\n",
       "      <th>0</th>\n",
       "      <td>1</td>\n",
       "    </tr>\n",
       "    <tr>\n",
       "      <th>1</th>\n",
       "      <td>0</td>\n",
       "    </tr>\n",
       "    <tr>\n",
       "      <th>2</th>\n",
       "      <td>0</td>\n",
       "    </tr>\n",
       "    <tr>\n",
       "      <th>3</th>\n",
       "      <td>0</td>\n",
       "    </tr>\n",
       "    <tr>\n",
       "      <th>4</th>\n",
       "      <td>0</td>\n",
       "    </tr>\n",
       "  </tbody>\n",
       "</table>\n",
       "</div>"
      ],
      "text/plain": [
       "   y\n",
       "0  1\n",
       "1  0\n",
       "2  0\n",
       "3  0\n",
       "4  0"
      ]
     },
     "execution_count": 7,
     "metadata": {},
     "output_type": "execute_result"
    }
   ],
   "source": [
    "y.head()"
   ]
  },
  {
   "cell_type": "code",
   "execution_count": 8,
   "metadata": {},
   "outputs": [
    {
     "name": "stdout",
     "output_type": "stream",
     "text": [
      "             precision    recall  f1-score   support\n",
      "\n",
      "          0       0.65      0.08      0.14      1953\n",
      "          1       0.52      0.96      0.68      2047\n",
      "\n",
      "avg / total       0.59      0.53      0.42      4000\n",
      "\n"
     ]
    }
   ],
   "source": [
    "import numpy as np\n",
    "import matplotlib.pyplot as plt\n",
    "from sklearn.tree import DecisionTreeClassifier\n",
    "from sklearn.metrics import classification_report\n",
    "\n",
    "y = y.values\n",
    "X = df.values\n",
    "\n",
    "# Fit regression model\n",
    "regr_1 = DecisionTreeClassifier(max_depth=4)\n",
    "\n",
    "regr_1.fit(X, y)\n",
    "\n",
    "# Predict\n",
    "y_1 = regr_1.predict(X)\n",
    "\n",
    "print(classification_report(y, y_1))\n"
   ]
  },
  {
   "cell_type": "markdown",
   "metadata": {},
   "source": [
    "The model does not preform that well\n",
    "\n",
    "## Increase to 40 Features \n",
    "\n",
    "Lets increase the features to 40. Now these arent real features, infact, they are just more random data. "
   ]
  },
  {
   "cell_type": "code",
   "execution_count": 9,
   "metadata": {},
   "outputs": [
    {
     "data": {
      "text/html": [
       "<div>\n",
       "<style>\n",
       "    .dataframe thead tr:only-child th {\n",
       "        text-align: right;\n",
       "    }\n",
       "\n",
       "    .dataframe thead th {\n",
       "        text-align: left;\n",
       "    }\n",
       "\n",
       "    .dataframe tbody tr th {\n",
       "        vertical-align: top;\n",
       "    }\n",
       "</style>\n",
       "<table border=\"1\" class=\"dataframe\">\n",
       "  <thead>\n",
       "    <tr style=\"text-align: right;\">\n",
       "      <th></th>\n",
       "      <th>0</th>\n",
       "      <th>1</th>\n",
       "      <th>2</th>\n",
       "      <th>3</th>\n",
       "      <th>4</th>\n",
       "      <th>5</th>\n",
       "      <th>6</th>\n",
       "      <th>7</th>\n",
       "      <th>8</th>\n",
       "      <th>9</th>\n",
       "      <th>...</th>\n",
       "      <th>30</th>\n",
       "      <th>31</th>\n",
       "      <th>32</th>\n",
       "      <th>33</th>\n",
       "      <th>34</th>\n",
       "      <th>35</th>\n",
       "      <th>36</th>\n",
       "      <th>37</th>\n",
       "      <th>38</th>\n",
       "      <th>39</th>\n",
       "    </tr>\n",
       "  </thead>\n",
       "  <tbody>\n",
       "    <tr>\n",
       "      <th>0</th>\n",
       "      <td>126</td>\n",
       "      <td>459</td>\n",
       "      <td>-140</td>\n",
       "      <td>294</td>\n",
       "      <td>130</td>\n",
       "      <td>95</td>\n",
       "      <td>724</td>\n",
       "      <td>44</td>\n",
       "      <td>638</td>\n",
       "      <td>-879</td>\n",
       "      <td>...</td>\n",
       "      <td>-724</td>\n",
       "      <td>184</td>\n",
       "      <td>-541</td>\n",
       "      <td>337</td>\n",
       "      <td>-979</td>\n",
       "      <td>-748</td>\n",
       "      <td>-253</td>\n",
       "      <td>-144</td>\n",
       "      <td>584</td>\n",
       "      <td>-526</td>\n",
       "    </tr>\n",
       "    <tr>\n",
       "      <th>1</th>\n",
       "      <td>82</td>\n",
       "      <td>-490</td>\n",
       "      <td>705</td>\n",
       "      <td>499</td>\n",
       "      <td>-301</td>\n",
       "      <td>-25</td>\n",
       "      <td>806</td>\n",
       "      <td>-811</td>\n",
       "      <td>-43</td>\n",
       "      <td>-314</td>\n",
       "      <td>...</td>\n",
       "      <td>-224</td>\n",
       "      <td>369</td>\n",
       "      <td>-436</td>\n",
       "      <td>-103</td>\n",
       "      <td>363</td>\n",
       "      <td>-909</td>\n",
       "      <td>390</td>\n",
       "      <td>-45</td>\n",
       "      <td>478</td>\n",
       "      <td>451</td>\n",
       "    </tr>\n",
       "    <tr>\n",
       "      <th>2</th>\n",
       "      <td>-492</td>\n",
       "      <td>-225</td>\n",
       "      <td>966</td>\n",
       "      <td>-966</td>\n",
       "      <td>-795</td>\n",
       "      <td>104</td>\n",
       "      <td>955</td>\n",
       "      <td>585</td>\n",
       "      <td>895</td>\n",
       "      <td>411</td>\n",
       "      <td>...</td>\n",
       "      <td>-545</td>\n",
       "      <td>485</td>\n",
       "      <td>750</td>\n",
       "      <td>275</td>\n",
       "      <td>16</td>\n",
       "      <td>725</td>\n",
       "      <td>-705</td>\n",
       "      <td>748</td>\n",
       "      <td>-281</td>\n",
       "      <td>772</td>\n",
       "    </tr>\n",
       "    <tr>\n",
       "      <th>3</th>\n",
       "      <td>-663</td>\n",
       "      <td>-122</td>\n",
       "      <td>76</td>\n",
       "      <td>-209</td>\n",
       "      <td>945</td>\n",
       "      <td>-784</td>\n",
       "      <td>-237</td>\n",
       "      <td>-813</td>\n",
       "      <td>-621</td>\n",
       "      <td>-508</td>\n",
       "      <td>...</td>\n",
       "      <td>-622</td>\n",
       "      <td>796</td>\n",
       "      <td>513</td>\n",
       "      <td>-770</td>\n",
       "      <td>17</td>\n",
       "      <td>-960</td>\n",
       "      <td>51</td>\n",
       "      <td>-866</td>\n",
       "      <td>-800</td>\n",
       "      <td>863</td>\n",
       "    </tr>\n",
       "    <tr>\n",
       "      <th>4</th>\n",
       "      <td>-221</td>\n",
       "      <td>-71</td>\n",
       "      <td>56</td>\n",
       "      <td>71</td>\n",
       "      <td>-498</td>\n",
       "      <td>-594</td>\n",
       "      <td>597</td>\n",
       "      <td>751</td>\n",
       "      <td>-196</td>\n",
       "      <td>-902</td>\n",
       "      <td>...</td>\n",
       "      <td>38</td>\n",
       "      <td>881</td>\n",
       "      <td>577</td>\n",
       "      <td>-109</td>\n",
       "      <td>484</td>\n",
       "      <td>714</td>\n",
       "      <td>598</td>\n",
       "      <td>-137</td>\n",
       "      <td>-258</td>\n",
       "      <td>264</td>\n",
       "    </tr>\n",
       "  </tbody>\n",
       "</table>\n",
       "<p>5 rows × 40 columns</p>\n",
       "</div>"
      ],
      "text/plain": [
       "    0    1    2    3    4    5    6    7    8    9  ...    30   31   32   33  \\\n",
       "0  126  459 -140  294  130   95  724   44  638 -879 ...  -724  184 -541  337   \n",
       "1   82 -490  705  499 -301  -25  806 -811  -43 -314 ...  -224  369 -436 -103   \n",
       "2 -492 -225  966 -966 -795  104  955  585  895  411 ...  -545  485  750  275   \n",
       "3 -663 -122   76 -209  945 -784 -237 -813 -621 -508 ...  -622  796  513 -770   \n",
       "4 -221  -71   56   71 -498 -594  597  751 -196 -902 ...    38  881  577 -109   \n",
       "\n",
       "    34   35   36   37   38   39  \n",
       "0 -979 -748 -253 -144  584 -526  \n",
       "1  363 -909  390  -45  478  451  \n",
       "2   16  725 -705  748 -281  772  \n",
       "3   17 -960   51 -866 -800  863  \n",
       "4  484  714  598 -137 -258  264  \n",
       "\n",
       "[5 rows x 40 columns]"
      ]
     },
     "execution_count": 9,
     "metadata": {},
     "output_type": "execute_result"
    }
   ],
   "source": [
    "r = np.random.RandomState(42)\n",
    "\n",
    "num_samples = 4000\n",
    "num_features = 40\n",
    "\n",
    "df = pd.DataFrame(r.randint(-1000, 1000,size=(num_samples, num_features)))\n",
    "\n",
    "X = df.values\n",
    "\n",
    "df.head()"
   ]
  },
  {
   "cell_type": "code",
   "execution_count": 10,
   "metadata": {},
   "outputs": [
    {
     "name": "stdout",
     "output_type": "stream",
     "text": [
      "             precision    recall  f1-score   support\n",
      "\n",
      "          0       0.55      0.45      0.49      1953\n",
      "          1       0.55      0.66      0.60      2047\n",
      "\n",
      "avg / total       0.55      0.55      0.55      4000\n",
      "\n"
     ]
    }
   ],
   "source": [
    "# Fit regression model\n",
    "regr_1 = DecisionTreeClassifier(max_depth=4)\n",
    "\n",
    "regr_1.fit(X, y)\n",
    "\n",
    "# Predict\n",
    "y_1 = regr_1.predict(X)\n",
    "\n",
    "print(classification_report(y, y_1))"
   ]
  },
  {
   "cell_type": "markdown",
   "metadata": {},
   "source": [
    "Look at that, the F1 score went up. \n",
    "\n",
    "## Increase to 400 features "
   ]
  },
  {
   "cell_type": "code",
   "execution_count": 11,
   "metadata": {},
   "outputs": [
    {
     "name": "stdout",
     "output_type": "stream",
     "text": [
      "             precision    recall  f1-score   support\n",
      "\n",
      "          0       0.55      0.70      0.62      1953\n",
      "          1       0.62      0.46      0.53      2047\n",
      "\n",
      "avg / total       0.59      0.58      0.57      4000\n",
      "\n"
     ]
    }
   ],
   "source": [
    "r = np.random.RandomState(42)\n",
    "\n",
    "num_samples = 4000\n",
    "num_features = 400\n",
    "\n",
    "df = pd.DataFrame(r.randint(-1000, 1000,size=(num_samples, num_features)))\n",
    "\n",
    "X = df.values\n",
    "\n",
    "# Fit regression model\n",
    "regr_1 = DecisionTreeClassifier(max_depth=4)\n",
    "\n",
    "regr_1.fit(X, y)\n",
    "\n",
    "# Predict\n",
    "y_1 = regr_1.predict(X)\n",
    "\n",
    "print(classification_report(y, y_1))"
   ]
  },
  {
   "cell_type": "markdown",
   "metadata": {},
   "source": [
    "Even more F1! \n",
    "\n",
    "## Increase to 4,000 features "
   ]
  },
  {
   "cell_type": "code",
   "execution_count": 12,
   "metadata": {},
   "outputs": [
    {
     "name": "stdout",
     "output_type": "stream",
     "text": [
      "             precision    recall  f1-score   support\n",
      "\n",
      "          0       0.57      0.61      0.59      1953\n",
      "          1       0.60      0.56      0.58      2047\n",
      "\n",
      "avg / total       0.59      0.58      0.58      4000\n",
      "\n"
     ]
    }
   ],
   "source": [
    "r = np.random.RandomState(42)\n",
    "\n",
    "num_samples = 4000\n",
    "num_features = 4000\n",
    "\n",
    "df = pd.DataFrame(r.randint(-1000, 1000,size=(num_samples, num_features)))\n",
    "\n",
    "X = df.values\n",
    "\n",
    "# Fit regression model\n",
    "regr_1 = DecisionTreeClassifier(max_depth=4)\n",
    "\n",
    "regr_1.fit(X, y)\n",
    "\n",
    "# Predict\n",
    "y_1 = regr_1.predict(X)\n",
    "\n",
    "print(classification_report(y, y_1))"
   ]
  },
  {
   "cell_type": "markdown",
   "metadata": {
    "collapsed": true
   },
   "source": [
    "F1 keeps going up. \n",
    "\n",
    "## Increase to 40,000"
   ]
  },
  {
   "cell_type": "code",
   "execution_count": 13,
   "metadata": {},
   "outputs": [
    {
     "name": "stdout",
     "output_type": "stream",
     "text": [
      "             precision    recall  f1-score   support\n",
      "\n",
      "          0       0.64      0.50      0.56      1953\n",
      "          1       0.60      0.73      0.66      2047\n",
      "\n",
      "avg / total       0.62      0.62      0.61      4000\n",
      "\n"
     ]
    }
   ],
   "source": [
    "r = np.random.RandomState(42)\n",
    "\n",
    "num_samples = 4000\n",
    "num_features = 40000\n",
    "\n",
    "df = pd.DataFrame(r.randint(-1000, 1000,size=(num_samples, num_features)))\n",
    "\n",
    "X = df.values\n",
    "\n",
    "# Fit regression model\n",
    "regr_1 = DecisionTreeClassifier(max_depth=4)\n",
    "\n",
    "regr_1.fit(X, y)\n",
    "\n",
    "# Predict\n",
    "y_1 = regr_1.predict(X)\n",
    "\n",
    "print(classification_report(y, y_1))"
   ]
  },
  {
   "cell_type": "markdown",
   "metadata": {},
   "source": [
    "A top score! \n"
   ]
  },
  {
   "cell_type": "code",
   "execution_count": null,
   "metadata": {
    "collapsed": true
   },
   "outputs": [],
   "source": []
  }
 ],
 "metadata": {
  "kernelspec": {
   "display_name": "Python 3",
   "language": "python",
   "name": "python3"
  },
  "language_info": {
   "codemirror_mode": {
    "name": "ipython",
    "version": 3
   },
   "file_extension": ".py",
   "mimetype": "text/x-python",
   "name": "python",
   "nbconvert_exporter": "python",
   "pygments_lexer": "ipython3",
   "version": "3.6.3"
  }
 },
 "nbformat": 4,
 "nbformat_minor": 2
}
